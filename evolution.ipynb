{
 "cells": [
  {
   "cell_type": "code",
   "execution_count": null,
   "id": "1647ac49",
   "metadata": {},
   "outputs": [],
   "source": [
    "import pandas as pd"
   ]
  },
  {
   "cell_type": "code",
   "execution_count": null,
   "id": "643f00af",
   "metadata": {},
   "outputs": [],
   "source": [
    "evl=pd.read_csv('data/Evolution_DataSets.csv')\n",
    "evl"
   ]
  },
  {
   "cell_type": "code",
   "execution_count": null,
   "id": "8eb14b72",
   "metadata": {},
   "outputs": [],
   "source": [
    "evl.info()"
   ]
  },
  {
   "cell_type": "code",
   "execution_count": null,
   "id": "e7978612",
   "metadata": {},
   "outputs": [],
   "source": [
    "evl.dtypes"
   ]
  },
  {
   "cell_type": "code",
   "execution_count": null,
   "id": "f38b4b04",
   "metadata": {},
   "outputs": [],
   "source": [
    "evl.Location=evl['Location'].astype('category')"
   ]
  },
  {
   "cell_type": "code",
   "execution_count": null,
   "id": "c92dc6e9",
   "metadata": {},
   "outputs": [],
   "source": [
    "evl.dtypes"
   ]
  },
  {
   "cell_type": "code",
   "execution_count": null,
   "id": "4fe20f08",
   "metadata": {},
   "outputs": [],
   "source": [
    "evl.describe()"
   ]
  },
  {
   "cell_type": "code",
   "execution_count": null,
   "id": "85eb2014",
   "metadata": {},
   "outputs": [],
   "source": [
    "evl.Migrated=evl['Migrated'].astype('object')"
   ]
  },
  {
   "cell_type": "code",
   "execution_count": null,
   "id": "82f52d0b",
   "metadata": {},
   "outputs": [],
   "source": [
    "evl.dtypes"
   ]
  },
  {
   "cell_type": "code",
   "execution_count": null,
   "id": "25c51e8b",
   "metadata": {},
   "outputs": [],
   "source": [
    "fields=['Cranial_Capacity','Height']"
   ]
  },
  {
   "cell_type": "code",
   "execution_count": null,
   "id": "c3e5c55d",
   "metadata": {},
   "outputs": [],
   "source": [
    "evl[fields].corr"
   ]
  },
  {
   "cell_type": "code",
   "execution_count": null,
   "id": "52210d79",
   "metadata": {},
   "outputs": [],
   "source": [
    "pip install parquet"
   ]
  },
  {
   "cell_type": "code",
   "execution_count": null,
   "id": "b81676f9",
   "metadata": {},
   "outputs": [],
   "source": [
    "pip install pyarrow"
   ]
  },
  {
   "cell_type": "code",
   "execution_count": null,
   "metadata": {},
   "outputs": [],
   "source": [
    "pip install fastparquet"
   ]
  },
  {
   "cell_type": "code",
   "execution_count": null,
   "id": "1754a3e3",
   "metadata": {},
   "outputs": [],
   "source": [
    "evl.to_parquet('data/Evolution_DataSets.parquet')"
   ]
  }
 ],
 "metadata": {
  "kernelspec": {
   "display_name": ".venv (3.11.9)",
   "language": "python",
   "name": "python3"
  },
  "language_info": {
   "codemirror_mode": {
    "name": "ipython",
    "version": 3
   },
   "file_extension": ".py",
   "mimetype": "text/x-python",
   "name": "python",
   "nbconvert_exporter": "python",
   "pygments_lexer": "ipython3",
   "version": "3.11.9"
  }
 },
 "nbformat": 4,
 "nbformat_minor": 5
}
